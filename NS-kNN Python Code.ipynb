{
 "cells": [
  {
   "cell_type": "code",
   "execution_count": 6,
   "id": "733eacf6",
   "metadata": {},
   "outputs": [],
   "source": [
    "import os\n",
    "import pandas as pd"
   ]
  },
  {
   "cell_type": "code",
   "execution_count": 7,
   "id": "cf4e6cea",
   "metadata": {},
   "outputs": [
    {
     "data": {
      "text/plain": [
       "'C:\\\\Users\\\\vicks\\\\OneDrive\\\\Uni\\\\Postgraduate\\\\Semester 3\\\\Data Science Project\\\\Code'"
      ]
     },
     "execution_count": 7,
     "metadata": {},
     "output_type": "execute_result"
    }
   ],
   "source": [
    "os.getcwd()"
   ]
  },
  {
   "cell_type": "code",
   "execution_count": 8,
   "id": "df8d28ad",
   "metadata": {},
   "outputs": [],
   "source": [
    "os.chdir(\"C:\\\\Users\\\\vicks\\\\OneDrive\\\\Uni\\\\Postgraduate\\\\Semester 3\\\\Data Science Project\\\\Code\")"
   ]
  },
  {
   "cell_type": "code",
   "execution_count": 9,
   "id": "61d9c80e",
   "metadata": {},
   "outputs": [],
   "source": [
    "AllAlzData = pd.read_csv(\"ADMSPositiveIonModeC18Data.csv\")"
   ]
  },
  {
   "cell_type": "code",
   "execution_count": 10,
   "id": "e2b68eb3",
   "metadata": {},
   "outputs": [
    {
     "name": "stdout",
     "output_type": "stream",
     "text": [
      "(3822, 46)\n"
     ]
    }
   ],
   "source": [
    "print(AllAlzData.shape)"
   ]
  },
  {
   "cell_type": "code",
   "execution_count": 11,
   "id": "fe5a8b0e",
   "metadata": {},
   "outputs": [],
   "source": [
    "AlzData1 = AllAlzData.set_index(\"Samples\", drop = False)"
   ]
  },
  {
   "cell_type": "code",
   "execution_count": 12,
   "id": "bb0b6b5f",
   "metadata": {},
   "outputs": [],
   "source": [
    "AlzData1 = AlzData1.iloc[1:1910,1:]"
   ]
  },
  {
   "cell_type": "code",
   "execution_count": 13,
   "id": "58d8c72e",
   "metadata": {},
   "outputs": [],
   "source": [
    "AlzData = AlzData1.transpose()"
   ]
  },
  {
   "cell_type": "code",
   "execution_count": 16,
   "id": "a9afd5b8",
   "metadata": {},
   "outputs": [],
   "source": [
    "nAlzData = AlzData.iloc[1:,0:1909].astype(float)\n",
    "nAlzData;"
   ]
  },
  {
   "cell_type": "code",
   "execution_count": 17,
   "id": "d53d69ff",
   "metadata": {},
   "outputs": [],
   "source": [
    "AlzSc = (nAlzData-nAlzData.mean())/nAlzData.std()"
   ]
  },
  {
   "cell_type": "markdown",
   "id": "df6a1bc8",
   "metadata": {},
   "source": [
    "Building the function to impute missing values in a dataset using NSkNN - rebuilding the Lee and Styczynski 2018 method to be usable in Python\n",
    "\n",
    "_Original Matlab code by Styczynski can be found here:_\n",
    "https://github.com/gtStyLab/NSkNN/blob/master/functions/NSkNNData_HM.m"
   ]
  },
  {
   "cell_type": "markdown",
   "id": "344e81e7",
   "metadata": {},
   "source": [
    "\"NSkNN does not skip neighbors that have NaN values in the same location as the metabolite being imputed. Instead, it replaces these NaN values with the half minimum value of that metabolite.\""
   ]
  },
  {
   "cell_type": "code",
   "execution_count": 1,
   "id": "9bdb4f39",
   "metadata": {},
   "outputs": [],
   "source": [
    "import numpy as np"
   ]
  },
  {
   "cell_type": "markdown",
   "id": "40a97226",
   "metadata": {},
   "source": [
    "__Discord help -> rows 1-44 of Matlab code covered__"
   ]
  },
  {
   "cell_type": "code",
   "execution_count": null,
   "id": "3d2207a5",
   "metadata": {},
   "outputs": [],
   "source": [
    "#Function to impute the missing values in a dataset using NSkNN\n",
    "#Data must be scaled prior to use\n",
    "def NSkNN(df):\n",
    "    numCol = df.shape[1]\n",
    "    #finds all NaNs in the dataframe and asks if any() are found along columns\n",
    "    MVRowsRemoved = df[df.isna().any(axis=1)]\n",
    "    #number of metabolites used in calculation of metabolites in order to weight distance\n",
    "    #Divide by numMetInCalc to avoid scenarios where distances calculated with only a few metabolites are weighted more heavily over distances that are close to the same distance, but used more metabolites in the calculation.\n",
    "    numMetInCalc = MVRowsRemoved.shape[0]\n",
    "    distance = pdist2(MVRowsRemoved(:,targetCol)',MVRowsRemoved(:,neighborCol)')/sqrt(numMetInCalc);\n",
    "    distIdx = []\n",
    "    \n",
    "#Calculate the Euclidean distances between the target sample (i) and the other samples (j)    \n",
    "for targetCol, neighbourCol in itertools.combinations(df.columns, 2):\n",
    "    #Remove rows that calculated the Euclidean distance between a sample and itself.\n",
    "    distance = np.linalg.norm(MVRowsRemoved[targetCol] - MVRowsRemoved[neighbourCol])/np.sqrt(numMetInCalc)\n",
    "    distIdx.append([targetCol, distance, neighbourCol])\n",
    "    distIdx = pd.DataFrame(distIdx, columns = ['targetCol', 'distance', 'neighbourCol'])\n",
    "    distIdxSorted = distIdx.sort_values('distance')\n",
    "    #Finds minimum of each metabolite\n",
    "    minValperRow = dataMV.min(axis=1)\n",
    "    \n",
    "    #Implement NSkNN with half minimum replacement\n",
    "    dataImputed = dataMV.copy()\n",
    "    dataImputedWeighted = dataMV.copy()\n",
    "    #find the nan rows and then negate it ~ to get the rows with MV\n",
    "    numMV = (~df.isna().any(axis=1)).shape[0]"
   ]
  }
 ],
 "metadata": {
  "kernelspec": {
   "display_name": "Python 3",
   "language": "python",
   "name": "python3"
  },
  "language_info": {
   "codemirror_mode": {
    "name": "ipython",
    "version": 3
   },
   "file_extension": ".py",
   "mimetype": "text/x-python",
   "name": "python",
   "nbconvert_exporter": "python",
   "pygments_lexer": "ipython3",
   "version": "3.8.8"
  },
  "vscode": {
   "interpreter": {
    "hash": "2d4f09c073af55209cde53d1fe7e3b978b8245f1843b5028b0befd14c70bd8b9"
   }
  }
 },
 "nbformat": 4,
 "nbformat_minor": 5
}
